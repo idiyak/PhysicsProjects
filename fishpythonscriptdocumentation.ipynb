{
  "nbformat": 4,
  "nbformat_minor": 0,
  "metadata": {
    "colab": {
      "provenance": [],
      "toc_visible": true,
      "authorship_tag": "ABX9TyOy6RAAlpIyGZHJNw7QV9Rp",
      "include_colab_link": true
    },
    "kernelspec": {
      "name": "python3",
      "display_name": "Python 3"
    },
    "language_info": {
      "name": "python"
    }
  },
  "cells": [
    {
      "cell_type": "markdown",
      "metadata": {
        "id": "view-in-github",
        "colab_type": "text"
      },
      "source": [
        "<a href=\"https://colab.research.google.com/github/idiyak/PhysicsProjects/blob/main/fishpythonscriptdocumentation.ipynb\" target=\"_parent\"><img src=\"https://colab.research.google.com/assets/colab-badge.svg\" alt=\"Open In Colab\"/></a>"
      ]
    },
    {
      "cell_type": "markdown",
      "source": [
        "# **Fish Python Script Documentation**\n",
        "**Documentation by:** Idil Yaktubay (iyaktubay@iisd-ela.org)"
      ],
      "metadata": {
        "id": "0FVt-fwSw-rF"
      }
    },
    {
      "cell_type": "markdown",
      "source": [
        "## **1. About This Document**\n",
        "&nbsp; &nbsp; &nbsp; &nbsp;This file documents the `FishPythonScript.py` script to explain the algorithms and code used to process fish data. The author of the script is Tonja Dwyer (tonjadwyer@gmail.com), though some comments in the script were edited/added by me. The script is stored in the PythonCaller transformer within the FME Workbench named 'wb4 - fish id finder', which assigns fish individual IDs to observations - either new IDs or existing ones from the database. However, the code in this document is fully runnable on its own, as long as the instructions in section 2 are followed. Notice that in the PythonCaller version of the script, the modules `fme` and `fmeobjects` are imported for the transformer to work. Though, since this document is not connected to FME, importing these modules is not necessary to run the code in this document. Lastly, if you are accessing the GitHub copy of this file, click the \"Open in Colab\" link at the top of this document. This will take you to the interactive python notebook environment where you can run the code!"
      ],
      "metadata": {
        "id": "RESV8aUTVb6z"
      }
    },
    {
      "cell_type": "markdown",
      "source": [
        "## **2. Importing the Example Input Data**\n",
        "&nbsp; &nbsp; &nbsp; &nbsp;To document the `FishPythonScript.py` script, we use the input table `FishPythonInputTable.csv` (from https://github.com/IISD-ELA/FishDataProcessing) as an example case. The reader must upload this table to the files tab on the left panel before running the following block of code. Note that the purpose of the code in this section is to simply import the input table in the same structure as it would be imported on FME, so the code contents are irrelevant. Run the following code after uploading the example data:"
      ],
      "metadata": {
        "id": "CH3Rog4JVW-V"
      }
    },
    {
      "cell_type": "code",
      "source": [
        "##RUN THIS CODE, BUT IGNORE ITS CONTENTS, NOT RELEVANT##\n",
        "import csv\n",
        "\n",
        "# Initialize an empty list to store the pairs\n",
        "pairs_list = []\n",
        "\n",
        "# Specify the CSV file name\n",
        "csv_file = 'FishPythonInputTable.csv'\n",
        "\n",
        "try:\n",
        "    # Open the CSV file for reading\n",
        "    with open(csv_file, 'r') as file:\n",
        "        # Create a CSV reader object\n",
        "        csv_reader = csv.reader(file)\n",
        "\n",
        "        # Read the header row to determine column indices\n",
        "        header = next(csv_reader)\n",
        "        obs_number_index = header.index('obs_number')\n",
        "        tag_id_index = header.index('tag_id')\n",
        "\n",
        "        # Iterate through the rows and store the desired columns in the list\n",
        "        for row in csv_reader:\n",
        "            obs_number = row[obs_number_index]\n",
        "            tag_id = row[tag_id_index]\n",
        "            pairs_list.append([obs_number, tag_id])\n",
        "\n",
        "except FileNotFoundError:\n",
        "    print(f\"The file '{csv_file}' was not found.\")\n",
        "except Exception as e:\n",
        "    print(f\"An error occurred: {str(e)}\")"
      ],
      "metadata": {
        "id": "nweauFXExhTO"
      },
      "execution_count": null,
      "outputs": []
    },
    {
      "cell_type": "markdown",
      "source": [
        "##**3. Brief Definition of Python Classes**\n",
        "\n",
        "&nbsp; &nbsp; &nbsp; &nbsp;In Python, a `class` is a data type defined by the user. A `class` contains objects with the user-defined data type, as well as methods that can be used to manipulate these objects. `FishPythonScript` defines two classes, `UnionFind` and `FeatureProcessor`, which are documented in the following sections."
      ],
      "metadata": {
        "id": "RUIU7V5UM2om"
      }
    },
    {
      "cell_type": "markdown",
      "source": [
        "##**4. Understanding the Union-Find Algorithm**\n",
        "\n",
        "&nbsp; &nbsp; &nbsp; &nbsp; The first class defined in the script is `UnionFind`, which allows the user to create and manipulate objects with data type `UnionFind` using the methods `__init__`, `find`, and `union`. Before the goal of `UnionFind` is explained, a couple of definitions:\n",
        "* `parent`: An object's `parent` is the representative of the group that the object is in. For example, let `4` be the representative of group `a = {2, 8, 4, 9}`. Then, the `parent` of object `2` is `4` (likewise for `8`, `4`, and `9`).\n",
        "***Join**: Joining two groups of objects is equivalent to making the parent of one group the parent of the other. For example, joining sets `a = {2, 8, 4, 9}`, with parent `4`, and `b = {1, 2}`, with parent `2`, may give us the set `b = {1, 2, 8, 4, 9}`, with parent `4` (or parent `2`, depending on which original parent we choose).\n",
        "\n",
        "&nbsp; &nbsp; &nbsp; &nbsp; The purpose of creating the `UnionFind` algorithm is to first, find the `parent` of an object using the `find` method, then, to join two groups of objects using the `union` method. Let's run and examine the code:"
      ],
      "metadata": {
        "id": "4cF68lBqVh2m"
      }
    },
    {
      "cell_type": "code",
      "source": [
        "# Define the UnionFind data type/structure\n",
        "class UnionFind:\n",
        "\n",
        "    def __init__(self): # Construct a UnionFind object\n",
        "        self.parent = {} # Initialize parent attribute as empty dictionary\n",
        "\n",
        "    def find(self, u): # Find the parent of the group object u is in (find the parent of u)\n",
        "        if u != self.parent.setdefault(u, u): # Check if u is its own parent\n",
        "            self.parent[u] = self.find(self.parent[u]) # If u is not its own parent, keep searching for the parent\n",
        "        return self.parent[u] # Output the parent of the group object u is in\n",
        "\n",
        "    def union(self, u, v): # Joins the two groups that objects u and v are in\n",
        "        u = self.find(u) # Find the parent of the group object u is in\n",
        "        v = self.find(v) # Find the parent of the group object v is in\n",
        "        if u != v: # Check if u and v have the same parent\n",
        "            self.parent[u] = v # If not, make the parent of u the parent of v, thus joining the two groups"
      ],
      "metadata": {
        "id": "w00EiD71M7Pr"
      },
      "execution_count": null,
      "outputs": []
    },
    {
      "cell_type": "markdown",
      "source": [
        "### **`__init__`**\n",
        "&nbsp; &nbsp; &nbsp; &nbsp; Let's unpack the code. First, the `__init__` constructor method is called when the user first creates a new `UnionFind` object. The `parent` attribute of this new object gives us a dictionary, whose keys are the members of a group and whose values are the parents of these members. The following example illustrates this.\n",
        "\n",
        "&nbsp; &nbsp; &nbsp; &nbsp; Let's create an example `UnionFind` object called `example_object`:"
      ],
      "metadata": {
        "id": "oCStDLvmNAPa"
      }
    },
    {
      "cell_type": "code",
      "source": [
        "example_object = UnionFind() # Create new object with type UnionFind"
      ],
      "metadata": {
        "id": "HrMgphgZNDtA"
      },
      "execution_count": null,
      "outputs": []
    },
    {
      "cell_type": "markdown",
      "source": [
        "Because `example_object` has just been created, the `parent` attribute of `example_object` should be an empty dictionary, since the object contains no data. Run the following code and confirm that this is true:"
      ],
      "metadata": {
        "id": "GD8BvUeLNTGN"
      }
    },
    {
      "cell_type": "code",
      "source": [
        "print('example_object is an empty dictionary:', example_object.parent)"
      ],
      "metadata": {
        "colab": {
          "base_uri": "https://localhost:8080/"
        },
        "id": "bOidph67OI4B",
        "outputId": "d1185042-30ca-448b-c727-d4cba7512a30"
      },
      "execution_count": null,
      "outputs": [
        {
          "output_type": "stream",
          "name": "stdout",
          "text": [
            "example_object is an empty dictionary: {}\n"
          ]
        }
      ]
    },
    {
      "cell_type": "markdown",
      "source": [
        "###**`find`**\n",
        "&nbsp; &nbsp; &nbsp; &nbsp; When we call the `find` method for the first time, however, we will get a value regardless of the fact that the dictionary was just empty. See for yourself:"
      ],
      "metadata": {
        "id": "pdwejaUuOpfz"
      }
    },
    {
      "cell_type": "code",
      "source": [
        "example_member = 3 # Set an example member whose parent we are trying to find\n",
        "example_object.find(example_member) # Find the parent of example_member"
      ],
      "metadata": {
        "id": "1T-uUy-7O6wG",
        "colab": {
          "base_uri": "https://localhost:8080/"
        },
        "outputId": "16736545-dca6-4bc3-a899-eb4ae8167bf4"
      },
      "execution_count": null,
      "outputs": [
        {
          "output_type": "execute_result",
          "data": {
            "text/plain": [
              "3"
            ]
          },
          "metadata": {},
          "execution_count": 37
        }
      ]
    },
    {
      "cell_type": "markdown",
      "source": [
        "As we observe, the value returned as the parent of `example_member` is itself! This is because when the `find` method is called, it first checks if `example_member` is its own parent with `setdefault`. When `setdefault(key, value)` is called, it looks up the value of the key `key`. If `key` does not exist, it creates a key `key` and assigns it the value `value`. In our case, since the dictionary `example_object.parent` was empty, `setdefault` created a new key `example_member` and assigned it the value `example_member`, initializing `example_member` as its own parent. Then, the `if` statement evaluated to `FALSE`, skipped the line directly below, and returned `example_object.parent[example_member]`, which is `example_member` itself - thanks to `setdefault`. Run and confirm:"
      ],
      "metadata": {
        "id": "_u65F-0UI_Ad"
      }
    },
    {
      "cell_type": "code",
      "source": [
        "example_object.parent[example_member]"
      ],
      "metadata": {
        "colab": {
          "base_uri": "https://localhost:8080/"
        },
        "id": "AsHATDwZOjlg",
        "outputId": "ecbb6b82-d497-4a18-eac7-30010111d98c"
      },
      "execution_count": null,
      "outputs": [
        {
          "output_type": "execute_result",
          "data": {
            "text/plain": [
              "3"
            ]
          },
          "metadata": {},
          "execution_count": 38
        }
      ]
    },
    {
      "cell_type": "markdown",
      "source": [
        "###**`union`**\n",
        "&nbsp; &nbsp; &nbsp; &nbsp; The third method of `UnionFind` is `union`, which joins the two groups of any two members, given that they are not already in the same group. Let's closely inspect what happens when we run the following code:"
      ],
      "metadata": {
        "id": "D42OquniPeFK"
      }
    },
    {
      "cell_type": "code",
      "source": [
        "example_object.union(1, 2) #1\n",
        "example_object.union(2, 5) #2\n",
        "example_object.union(3, 5) #3\n",
        "example_object.union(1, 5) #4\n",
        "example_object.union(5, 7) #5\n",
        "print('The parents of 1, 2, 3, 5, 7 are', example_object.find(1), ',', example_object.find(2), ',', example_object.find(3), ',', example_object.find(5), ',',  example_object.find(7), ',', 'respectively.') #6"
      ],
      "metadata": {
        "colab": {
          "base_uri": "https://localhost:8080/"
        },
        "id": "v0D51PvUT0en",
        "outputId": "56c5051d-8af1-434e-91d2-0e499e9ccaa4"
      },
      "execution_count": null,
      "outputs": [
        {
          "output_type": "stream",
          "name": "stdout",
          "text": [
            "The parents of 1, 2, 3, 5, 7 are 7 , 7 , 7 , 7 , 7 , respectively.\n"
          ]
        }
      ]
    },
    {
      "cell_type": "markdown",
      "source": [
        "The output suggests that the elements `1`, `2`, `3`, `5`, and `7` all belong to the same group `{1, 2, 3, 5, 7}` because they all have the same parent `7`. To understand how this output was produced, we now follow what happens in the first two lines of the code (the remaining lines aren't explained as the same process repeats each time):\n",
        "\n",
        "- `example_object.union(1, 2)`\n",
        "  - First, the program executes the first line of the method `union`, which is `u = example_object.find(1)`. At this point, as the key `1` does not yet exist in `example_object.parent`, `1` is initialized as its own parent (for the same reasons outlined in the `find` section), and thus the variable `u` is assigned the value `1`. Same thing happenes with variable `v`, and thus it is assigned the value `2`. Then, the `if` statement evaluates to `TRUE` and thus makes `v` the parent of `1`. Therefore, the parent of `1` is now `2`, and the group that `1` was initially in is now joined with the group that `2` is in.\n",
        "- `example_object.union(2, 5)`\n",
        "  - As before, the program assigns the variables `u` and `v` the values `2` and `5`, respectively (because `2` is already its own parent at this point, and `5` is initialized as its own parent). Once again, the `if` statement evaluates to `TRUE` and makes `v` the parent of `2`. Therefore, the parent of `2` is now `5`, and the group that `2` and `1` were initially in is joined with the group that `5` is in. However, note that until the `find` method is called for `1` (i.e., `example_object.find(1)`), its parent still remains as `2` in the `example_object.parent` dictionary. This is because the `find` method \"flattens\" the data structure to be more efficient everytime the user calls it.\n",
        "\n",
        "The process outlined above might be a bit difficult to visualize, so every line of code in `[8]` is explained visually at: https://github.com/IISD-ELA/FishDataProcessing/blob/main/diagramUnionFind.png. Note that circles refer to parents and squares refer to children."
      ],
      "metadata": {
        "id": "qlh9SS_zVv3G"
      }
    },
    {
      "cell_type": "markdown",
      "source": [
        "##**5. FeatureProcessor: Applying the UnionFind Algorithm to Fish**\n",
        "\n",
        "&nbsp; &nbsp; &nbsp; &nbsp; The second class defined in the script is `FeatureProcessor`, which takes an input data table from the FME workbench, and outputs a data table that assigns a unique group ID to each group of observation numbers that have the same parent (the observations for the same fish). The following block of code defines the `FeatureProcessor` class, with comments added to explain everything line by line - though each relevant part will be discussed in detail in the following sections."
      ],
      "metadata": {
        "id": "ABQ-QS9osEMS"
      }
    },
    {
      "cell_type": "code",
      "source": [
        "# FeatreProcessor class runs when the python caller wakes up\n",
        "from collections import defaultdict\n",
        "class FeatureProcessor(object):\n",
        "    \"\"\"Template Class Interface:\n",
        "    When using this class, make sure its name is set as the value of the 'Class\n",
        "    to Process Features' transformer parameter.\n",
        "    \"\"\"\n",
        "\n",
        "    def __init__(self):\n",
        "        \"\"\"Base constructor for class members.\"\"\"\n",
        "\n",
        "        # Initialize data attribute as an empty list\n",
        "          # Will eventually be used to store lists consisting of two elements,\n",
        "          # obs_number and tag_id\n",
        "        self.data = []\n",
        "\n",
        "        # Initialize uf attribute as a UnionFind object\n",
        "        self.uf = UnionFind()\n",
        "\n",
        "        # Initialize a dictionary to hold tags to obs_num mapping\n",
        "         #  (we need to do this so we can use \"UnionFind\")\n",
        "         #  (also note that here the default dictionary is a \"set\", which means it only holds one of each unique value - we don't want duplicates)\n",
        "        self.tag_to_obs = defaultdict(set)\n",
        "\n",
        "        # initialize set to hold distinct observation numbers (distinct, hence set!)\n",
        "        self.distinct_obs = set() # Not sure why this is here, does not change anything about the program whatsoever\n",
        "\n",
        "\n",
        "    # For FME Python Caller, automatically each feature that comes in will go through this \"input\" function\n",
        "    def input(self, feature):\n",
        "        \"\"\"This method is called for each FME Feature entering the\n",
        "        PythonCaller. If knowledge of all input Features is not required for\n",
        "        processing, then the processed Feature can be emitted from this method\n",
        "        through self.pyoutput(). Otherwise, the input FME Feature should be\n",
        "        cached to a list class member and processed in process_group() when\n",
        "        'Group by' attributes(s) are specified, or the close() method.\n",
        "\n",
        "        :param fmeobjects.FMEFeature feature: FME Feature entering the\n",
        "            transformer.\n",
        "        \"\"\"\n",
        "        # From the input rows, we want to pull out these two specific values\n",
        "        #  (we don't care about the other values coming in - we will join them back in after the Python script)\n",
        "        obs_number = feature.getAttribute('obs_number')\n",
        "        tag_id = feature.getAttribute('tag_id')\n",
        "\n",
        "        # Store pairs of observation numbers and tag IDs in the self.data list\n",
        "        self.data.append([obs_number, tag_id])\n",
        "\n",
        "\n",
        "    def close(self):\n",
        "        \"\"\"This method is called once all the FME Features have been processed\n",
        "        from input().\n",
        "        \"\"\"\n",
        "        pass\n",
        "\n",
        "\n",
        "    def process_group(self):\n",
        "        \"\"\"When 'Group By' attribute(s) are specified, this method is called\n",
        "        once all the FME Features in a current group have been sent to input().\n",
        "\n",
        "        FME Features sent to input() should generally be cached for group-by\n",
        "        processing in this method when knowledge of all Features is required.\n",
        "        The resulting Feature(s) from the group-by processing should be emitted\n",
        "        through self.pyoutput().\n",
        "\n",
        "        FME will continue calling input() a number of times followed\n",
        "        by process_group() for each 'Group By' attribute, so this\n",
        "        implementation should reset any class members for the next group.\n",
        "        \"\"\"\n",
        "\n",
        "        # example tag_to_obs\n",
        "        #dict_keys(['tag1', 'tag2', 'tag3', 'tag4', 'tag5'])\n",
        "        #dict_values([{1, 2, 7}, {1, 2, 3}, {3, 4}, {5, 6}, {6}])\n",
        "\n",
        "        # example distinct_obs\n",
        "        #{1, 2, 3, 4, 5, 6, 7}\n",
        "\n",
        "        # Step 1: Build tag to obs_num mapping\n",
        "        # for each tag, which obs does it appear in?\n",
        "        for obs, tag in self.data:\n",
        "            self.tag_to_obs[tag].add(obs)\n",
        "\n",
        "        # Step 2: Union obs with the same tag\n",
        "        for obs in self.tag_to_obs.values(): # Iterate over the group of observations for every tag ID\n",
        "            obs = list(obs) # For the current tag ID, store the corresponding group of observations in a list, for the purposes of indexing\n",
        "            for i in range(1, len(obs)): # For every observation in the obs list, assign the observation after it to be its parent\n",
        "                self.uf.union(obs[0], obs[i]) # Use the UnionFind class to accomplish the join\n",
        "\n",
        "        # Step 3: Get the distinct obs\n",
        "        distinct_obs = set() # Creates an empty set (a data structure with a unique constraint) where obs values will be accumulated\n",
        "        for obs, tag in self.data: # Go through every observation number and fill distinct_obs will distinct obs values\n",
        "            distinct_obs.add(obs)\n",
        "\n",
        "        # Step 4: form the groups\n",
        "        groups = defaultdict(set) # Empty dictionary with unique contraint where the groups from the final output file will be stored\n",
        "                                  # This dictionary has parents as keys and group members as values\n",
        "        for obs in distinct_obs: # Iterate over every distinct obs\n",
        "            root = self.uf.find(obs) # Find the parent of obs, and thus flatten the structure created by step 2\n",
        "            groups[root].add(obs) # Add the ultimate parent (parent after flattening) to groups dictionary\n",
        "\n",
        "        feature = fmeobjects.FMEFeature()\n",
        "        # Output the groups\n",
        "        group_num = 1\n",
        "        for _, members in groups.items():\n",
        "            print(f\"Group {group_num}: {sorted(list(members))}\")\n",
        "            group_num += 1\n",
        "            members_as_string = [str(x) for x in members]\n",
        "            group_members = \"/\".join(members_as_string)\n",
        "\n",
        "            #fmeobjects.FMELogFile().logMessageString('GROUP: {} COUNT{}!!!!'.format(group_id, len(members)), fmeobjects.FME_INFORM)\n",
        "            new_feature = feature.clone()\n",
        "\n",
        "            new_feature.setAttribute('group_id', group_num)\n",
        "            new_feature.setAttribute('group_members', group_members)\n",
        "\n",
        "\n",
        "            self.pyoutput(new_feature)\n",
        "\n",
        "\n",
        "    def has_support_for(self, support_type):\n",
        "        \"\"\"This method returns whether this PythonCaller supports a certain type.\n",
        "        The only supported type is fmeobjects.FME_SUPPORT_FEATURE_TABLE_SHIM.\n",
        "\n",
        "        :param int support_type: The support type being queried.\n",
        "        :returns: True if the passed in support type is supported.\n",
        "        :rtype: bool\n",
        "        \"\"\"\n",
        "        if support_type == fmeobjects.FME_SUPPORT_FEATURE_TABLE_SHIM:\n",
        "            # If this is set to return True, FME will pass features to the input() method that\n",
        "            # come from a feature table object. This allows for significant performance gains\n",
        "            # when processing large numbers of features.\n",
        "            # To enable this, the following conditions must be met:\n",
        "            #   1) features passed into the input() method cannot be copied or cached for later use\n",
        "            #   2) features cannot be read or modified after being passed to self.pyoutput()\n",
        "            #   3) Group Processing must not be enabled\n",
        "            # Violations will cause undefined behavior.\n",
        "            return False\n",
        "\n",
        "        return False"
      ],
      "metadata": {
        "id": "TzXvOhopXZqQ"
      },
      "execution_count": null,
      "outputs": []
    },
    {
      "cell_type": "markdown",
      "source": [
        "###**`__init__`**\n",
        "\n",
        "&nbsp; &nbsp; &nbsp; &nbsp; The first attribute defined by the `__init__` constructor is `data`, which initializes `self.data` as an empty `list`. When the later lines are executed, `self.data` will eventually fill with lists of `obs_number` and `tag_id` pairs, taking on the nested form `[[obs_number1, tag_id1], [obs_number2, tag_id2], ...]`. The second attribute is `uf`, which creates the `UnionFind` object `self.uf`. This is the attribute the script will use to implement the `UnionFind` algorithm to observation numbers. The third attribute is `tag_to_obs`, which will eventually hold `tag_id` values as keys and collections of `obs_number` values as values."
      ],
      "metadata": {
        "id": "D4wsNpxJXTmw"
      }
    },
    {
      "cell_type": "markdown",
      "source": [
        "###**`input`**\n",
        "\n",
        "&nbsp; &nbsp; &nbsp; &nbsp; The `input` method takes the input table from FME, extracts the values for the obs_number and tag_id columns, and assigns those values to the variables `obs_number` and `tag_id`. It then fills up the `self.data` list with lists of each observation-tag pair. Since this document is not connected to the FME workbench, we instead loaded the `FishPythonOutputTable.csv` file to see what `self.data` will look like after the `input` method has been called for an example input table (section 1). Run the following code, examine its output (which is what `self.data` will look like on FME when given the same input data table):"
      ],
      "metadata": {
        "id": "4f9RjWQ6Vt3C"
      }
    },
    {
      "cell_type": "code",
      "source": [
        "FP_example = FeatureProcessor() # Create FeatureProcessor object\n",
        "FP_example.data = pairs_list # Set the object's attribute to the list created back in section 1\n",
        "\n",
        "print(FP_example.data)"
      ],
      "metadata": {
        "colab": {
          "base_uri": "https://localhost:8080/"
        },
        "id": "bUWtNn3GUqvQ",
        "outputId": "bb9e349a-4846-4f27-b325-63f5e93e60e1"
      },
      "execution_count": null,
      "outputs": [
        {
          "output_type": "stream",
          "name": "stdout",
          "text": [
            "[['12', '4000000000'], ['16', '4400000000'], ['20', '1110000000'], ['6', '8888888888'], ['7', '9999999999'], ['11', '3000000000'], ['13', '4000000000'], ['15', '1100000000'], ['18', '8800000000'], ['22', '4440000000'], ['23', '8880000000'], ['1', '111111111111111'], ['2', '5555555555'], ['3', '6666666666'], ['4', '7777777777'], ['5', '7777777777'], ['8', '1000000000'], ['9', '2000000000'], ['10', '2000000000'], ['14', '7000000000'], ['17', '7700000000'], ['19', '9900000000'], ['21', '3330000000'], ['25', '3330XX'], ['28', '7770XX'], ['29', '9990XX'], ['34', '3000XX'], ['37', '6000XX'], ['38', '1110YY'], ['33', '2000XX'], ['35', '3000XX'], ['40', '1110FF'], ['24', '1110XX'], ['26', '5550XX'], ['27', '5550XX'], ['30', '1000XX'], ['31', '1000XX'], ['32', '1000XX'], ['36', '4000XX'], ['39', '1110BB'], ['46', '11CX'], ['50', '11FX'], ['52', '11HX'], ['45', '11AX'], ['47', '11CX'], ['51', '11GX'], ['53', '11AY'], ['41', '11AX'], ['42', '11AX'], ['43', '11BX'], ['44', '11BX'], ['48', '11DX'], ['49', '11EX'], ['54', '1110DD'], ['56', '3330XX'], ['61', '9990XX'], ['64', '6000XX'], ['67', '1110ZZ'], ['60', '7770XX'], ['65', '7000XX'], ['66', '1110YY'], ['69', '1110Z'], ['55', '2220XX'], ['57', '4440XX'], ['58', '5550XX'], ['59', '5550XX'], ['62', '4000XX'], ['63', '5000XX'], ['68', '1110X'], ['56', '4444444444'], ['61', '9999999999'], ['64', '9000000000'], ['67', '4400000000'], ['60', '8888888888'], ['65', '1100000000'], ['66', '3300000000'], ['69', '6600000000'], ['55', '2222222222'], ['57', '5555555555'], ['58', '6666666666'], ['59', '7777777777'], ['62', '6000000000'], ['63', '7000000000'], ['68', '5500000000'], ['72', '11FX'], ['73', '11HX'], ['70', '11BX'], ['71', '11DX'], ['74', '5550000000'], ['72', '8000000000'], ['73', '2200000000'], ['74', '4440000000'], ['70', '3333333333'], ['71', '5000000000'], ['75', '3330000000'], ['75', '2220000000'], ['77', '11GX'], ['78', '11AY'], ['76', '11EX'], ['77', '7000XX'], ['78', '1110ZZ'], ['76', '5000XX'], ['81', '1110FF'], ['80', '1110DD'], ['79', '1110BB'], ['81', '1110EE'], ['80', '1110CC'], ['79', '1110AA'], ['82', '8880000000'], ['82', '22B'], ['82', '7770000000']]\n"
          ]
        }
      ]
    },
    {
      "cell_type": "markdown",
      "source": [
        "###**`process_group`**\n",
        "\n",
        "&nbsp; &nbsp; &nbsp; &nbsp;  In our example, step 1 creates a dictionary whose keys are `tag_id` and whose values are `obs_number` from the `FP_example.data` list. Each `tag_id` key is mapped to the group of observations that the tag has appeared in. Run the following code and examine the output:"
      ],
      "metadata": {
        "id": "h_ep1nMNYqeS"
      }
    },
    {
      "cell_type": "code",
      "source": [
        "# Step 1: Build tag to obs_num mapping\n",
        "# for each tag, which obs does it appear in?\n",
        "for obs, tag in FP_example.data:\n",
        "  FP_example.tag_to_obs[tag].add(obs)\n",
        "print('The FP_example.tags_to_obs dictionary looks like: \\n', FP_example.tag_to_obs)"
      ],
      "metadata": {
        "colab": {
          "base_uri": "https://localhost:8080/"
        },
        "id": "MvaRxDO5a2FL",
        "outputId": "9d4b2ea7-67cd-4e5d-c6f3-78804cebe77b"
      },
      "execution_count": null,
      "outputs": [
        {
          "output_type": "stream",
          "name": "stdout",
          "text": [
            "The FP_example.tags_to_obs dictionary looks like: \n",
            " defaultdict(<class 'set'>, {'4000000000': {'13', '12'}, '4400000000': {'16', '67'}, '1110000000': {'20'}, '8888888888': {'60', '6'}, '9999999999': {'7', '61'}, '3000000000': {'11'}, '1100000000': {'15', '65'}, '8800000000': {'18'}, '4440000000': {'22', '74'}, '8880000000': {'82', '23'}, '111111111111111': {'1'}, '5555555555': {'57', '2'}, '6666666666': {'3', '58'}, '7777777777': {'59', '5', '4'}, '1000000000': {'8'}, '2000000000': {'10', '9'}, '7000000000': {'14', '63'}, '7700000000': {'17'}, '9900000000': {'19'}, '3330000000': {'75', '21'}, '3330XX': {'56', '25'}, '7770XX': {'60', '28'}, '9990XX': {'61', '29'}, '3000XX': {'35', '34'}, '6000XX': {'64', '37'}, '1110YY': {'38', '66'}, '2000XX': {'33'}, '1110FF': {'81', '40'}, '1110XX': {'24'}, '5550XX': {'27', '59', '26', '58'}, '1000XX': {'31', '30', '32'}, '4000XX': {'62', '36'}, '1110BB': {'39', '79'}, '11CX': {'47', '46'}, '11FX': {'50', '72'}, '11HX': {'73', '52'}, '11AX': {'41', '45', '42'}, '11GX': {'51', '77'}, '11AY': {'78', '53'}, '11BX': {'70', '44', '43'}, '11DX': {'48', '71'}, '11EX': {'49', '76'}, '1110DD': {'80', '54'}, '1110ZZ': {'67', '78'}, '7000XX': {'65', '77'}, '1110Z': {'69'}, '2220XX': {'55'}, '4440XX': {'57'}, '5000XX': {'76', '63'}, '1110X': {'68'}, '4444444444': {'56'}, '9000000000': {'64'}, '3300000000': {'66'}, '6600000000': {'69'}, '2222222222': {'55'}, '6000000000': {'62'}, '5500000000': {'68'}, '5550000000': {'74'}, '8000000000': {'72'}, '2200000000': {'73'}, '3333333333': {'70'}, '5000000000': {'71'}, '2220000000': {'75'}, '1110EE': {'81'}, '1110CC': {'80'}, '1110AA': {'79'}, '22B': {'82'}, '7770000000': {'82'}})\n"
          ]
        }
      ]
    },
    {
      "cell_type": "markdown",
      "source": [
        "&nbsp; &nbsp; &nbsp; &nbsp;Next, step 2 creates a `UnionFind` dictionary in the form of `FP_example.uf.parent`. This dictionary maps every `obs_num` contained in the keys of `FP_example.tag_to_obs` to its parent. In creating (or simply filling, since it already existed but was empty) `FP_example.uf.parent`, the code below uses the `union` method from `UnionFind` to assign the next observation number in the group to be the parent of the one before it. For example, let `obs1 = {1, 4, 3, 12}` be a list during one of the iterations in the loop. At the end of the loop, `1` will have parent `4`, `4` will have parent `3`, `3` will have parent `12`, and `12` will be its own parent (assuming that the same observation number does not appear in another tag later on, which is possible since fish can have multiple tags, but the below code takes care of this as well!). Therefore, the numbers are not yet joined. Run the following code and examine the output:"
      ],
      "metadata": {
        "id": "xbfTqOUMeP9M"
      }
    },
    {
      "cell_type": "code",
      "source": [
        "# Step 2: Union obs with the same tag\n",
        "for obs in FP_example.tag_to_obs.values(): # Iterate over the group of observations for every tag ID\n",
        "  obs = list(obs) # For the current tag ID, store the corresponding group of observations in a list, for the purposes of indexing\n",
        "  for i in range(1, len(obs)): # For every observation in the obs list, assign the observation after it to be its parent\n",
        "    FP_example.uf.union(obs[0], obs[i]) # Use the UnionFind class to accomplish the join\n",
        "print('The joined groups of observations now looks like: \\n', FP_example.uf.parent)"
      ],
      "metadata": {
        "colab": {
          "base_uri": "https://localhost:8080/"
        },
        "id": "Mw1cXU_seXzI",
        "outputId": "7929ec7a-b9c9-4286-dd90-06a77b0ad2a7"
      },
      "execution_count": null,
      "outputs": [
        {
          "output_type": "stream",
          "name": "stdout",
          "text": [
            "The joined groups of observations now looks like: \n",
            " {'13': '12', '12': '12', '16': '67', '67': '53', '60': '6', '6': '28', '7': '61', '61': '29', '15': '65', '65': '77', '22': '74', '74': '74', '82': '23', '23': '23', '57': '2', '2': '2', '3': '58', '58': '58', '59': '4', '5': '4', '4': '26', '10': '9', '9': '9', '14': '63', '63': '63', '75': '21', '21': '21', '56': '25', '25': '25', '28': '28', '29': '29', '35': '34', '34': '34', '64': '37', '37': '37', '38': '66', '66': '66', '81': '40', '40': '40', '27': '26', '26': '58', '31': '30', '30': '32', '32': '32', '62': '36', '36': '36', '39': '79', '79': '79', '47': '46', '46': '46', '50': '72', '72': '72', '73': '52', '52': '52', '41': '45', '45': '42', '42': '42', '51': '77', '77': '77', '78': '53', '53': '53', '70': '44', '44': '43', '43': '43', '48': '71', '71': '71', '49': '76', '76': '63', '80': '54', '54': '54'}\n"
          ]
        }
      ]
    },
    {
      "cell_type": "markdown",
      "source": [
        "&nbsp; &nbsp; &nbsp; &nbsp; In steps 3 and 4, to join the observation numbers for a given fish, the script calls the `find` method from `UnionFind` to flatten the structure of observation number groups. In other words, `find` must be called to ensure every observation number for a given fish has the same parent. The script does this by storing all distinct observation numbers in a set, and calling the `find` method for each number in this set. Remember, the `find` method flattens the structure. Run the following code and examine the output:"
      ],
      "metadata": {
        "id": "HyYDUED4kcqL"
      }
    },
    {
      "cell_type": "code",
      "source": [
        "# Step 3: Get the distinct obs\n",
        "distinct_obs = set() # Creates an empty set (a data structure with a unique constraint) where obs values will be accumulated\n",
        "for obs, tag in FP_example.data: # Go through every observation number and fill distinct_obs will distinct obs values\n",
        "  distinct_obs.add(obs)\n",
        "print('The group of distinct observation numbers looks like: \\n', distinct_obs)\n",
        "\n",
        "# Step 4: form the groups\n",
        "groups = defaultdict(set)# Empty dictionary with unique contraint where the groups from the final output file will be stored\n",
        "                         # This dictionary has parents as keys and group members as values\n",
        "for obs in distinct_obs: # Iterate over every distinct obs\n",
        "  root = FP_example.uf.find(obs) # Find the parent of obs, and thus flatten the structure created by step 2\n",
        "  groups[root].add(obs) # Add the ultimate parent (parent after flattening) to groups dictionary\n",
        "print('The final groups look like: \\n', groups)"
      ],
      "metadata": {
        "colab": {
          "base_uri": "https://localhost:8080/"
        },
        "id": "TGgEdGavs6SI",
        "outputId": "16bf41f2-573e-49d5-e54b-6882731ec759"
      },
      "execution_count": null,
      "outputs": [
        {
          "output_type": "stream",
          "name": "stdout",
          "text": [
            "The group of distinct observation numbers looks like: \n",
            " {'36', '68', '17', '57', '2', '32', '60', '73', '79', '25', '61', '34', '48', '62', '21', '53', '71', '59', '39', '10', '70', '18', '76', '29', '23', '1', '56', '31', '58', '45', '30', '54', '24', '77', '3', '75', '35', '27', '14', '49', '20', '13', '66', '74', '15', '81', '67', '38', '37', '51', '69', '55', '82', '46', '5', '11', '42', '33', '8', '4', '28', '47', '80', '22', '63', '41', '65', '26', '78', '9', '19', '72', '7', '44', '64', '52', '50', '16', '12', '6', '40', '43'}\n",
            "The final groups look like: \n",
            " defaultdict(<class 'set'>, {'36': {'62', '36'}, '68': {'68'}, '17': {'17'}, '2': {'57', '2'}, '32': {'31', '30', '32'}, '28': {'60', '6', '28'}, '52': {'73', '52'}, '79': {'79', '39'}, '25': {'56', '25'}, '29': {'7', '61', '29'}, '34': {'35', '34'}, '71': {'48', '71'}, '21': {'75', '21'}, '53': {'16', '67', '78', '53'}, '58': {'27', '5', '3', '59', '26', '58', '4'}, '9': {'10', '9'}, '43': {'44', '43', '70'}, '18': {'18'}, '63': {'49', '76', '14', '63'}, '23': {'82', '23'}, '1': {'1'}, '42': {'41', '45', '42'}, '54': {'80', '54'}, '24': {'24'}, '77': {'15', '65', '51', '77'}, '20': {'20'}, '12': {'13', '12'}, '66': {'38', '66'}, '74': {'22', '74'}, '40': {'81', '40'}, '37': {'64', '37'}, '69': {'69'}, '55': {'55'}, '46': {'47', '46'}, '11': {'11'}, '33': {'33'}, '8': {'8'}, '19': {'19'}, '72': {'50', '72'}})\n"
          ]
        }
      ]
    },
    {
      "cell_type": "markdown",
      "source": [
        "The final groups dictionary from the last code output is then written into an output csv file. Therefore, all that the remaining chunk of code for the `process_group` method does is output the data stored in `groups` to a csv table in the form that you see in the file `FishPythonOutputTable.csv`."
      ],
      "metadata": {
        "id": "P2jG42N0rCHA"
      }
    },
    {
      "cell_type": "markdown",
      "source": [
        "###**`has_support_for`**\n",
        "\n",
        "The purpose of the `has_support_for` method is self-explanatory in the doctsting and the comments provided in the script itself."
      ],
      "metadata": {
        "id": "ZegztBDmV0yu"
      }
    }
  ]
}